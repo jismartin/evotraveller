{
 "cells": [
  {
   "cell_type": "code",
   "execution_count": 62,
   "metadata": {},
   "outputs": [],
   "source": [
    "import numpy as np\n",
    "import random\n",
    "import pandas as pd\n",
    "import matplotlib.pyplot as plt\n",
    "import copy"
   ]
  },
  {
   "cell_type": "code",
   "execution_count": 2,
   "metadata": {},
   "outputs": [],
   "source": [
    "# Parameters of the problem and the genetic algorithm\n",
    "# Random seed for the placement of the locations\n",
    "seed=1111\n",
    "# TSP parameters\n",
    "grid_size = 10\n",
    "n_places = 10\n",
    "# Genetic algorithm parameters\n",
    "population_size = 50 # Even number\n",
    "mutation_rate = 0.05\n",
    "generations = 100\n",
    "tournament_size = 4\n",
    "elitism = 0.01\n",
    "crossover =0.4"
   ]
  },
  {
   "cell_type": "code",
   "execution_count": 3,
   "metadata": {},
   "outputs": [],
   "source": [
    "# Set seed\n",
    "def set_seed(seed):\n",
    "    np.random.seed(seed)\n",
    "    random.seed(seed)"
   ]
  },
  {
   "cell_type": "code",
   "execution_count": null,
   "metadata": {},
   "outputs": [],
   "source": [
    "# Be carefull, in Python lists are passed by reference; a list of list is a list of references to lists"
   ]
  },
  {
   "cell_type": "code",
   "execution_count": 5,
   "metadata": {},
   "outputs": [],
   "source": [
    "# Places to visit (return a list of locations of the TSP)\n",
    "def places(grid_size,n_places):\n",
    "    points = list(zip(np.random.randint(0,grid_size,n_places),np.random.randint(0,grid_size,n_places)))\n",
    "    while (0,0) in points:\n",
    "        points = list(zip(np.random.randint(0,grid_size,n_places),np.random.randint(0,grid_size,n_places)))\n",
    "    return points"
   ]
  },
  {
   "cell_type": "code",
   "execution_count": 6,
   "metadata": {},
   "outputs": [],
   "source": [
    "# Add the origin and destination to the sequence-list\n",
    "def add_extremes(sequence):\n",
    "    return [(0,0)] + sequence + [(0,0)]"
   ]
  },
  {
   "cell_type": "code",
   "execution_count": 8,
   "metadata": {},
   "outputs": [],
   "source": [
    "# Fitness function (works for one sequence-list)\n",
    "def distance(sequence):\n",
    "    path=add_extremes(sequence)\n",
    "    return sum(np.sqrt((path[i][0] - path[i+1][0])**2 + (path[i][1] - path[i+1][1])**2) \n",
    "               for i in range(len(path)-1))\n",
    "def fitness(solution):\n",
    "    return 1 / distance(solution) # shorter distence higher fitness"
   ]
  },
  {
   "cell_type": "code",
   "execution_count": 9,
   "metadata": {},
   "outputs": [],
   "source": [
    "# Intial Population (return a list of lists!)\n",
    "def initial_population(places,population_size):\n",
    "    return [random.sample(places, len(places)) for _ in range(population_size)]"
   ]
  },
  {
   "cell_type": "markdown",
   "metadata": {},
   "source": [
    "References for:\n",
    "* **Selection** \n",
    "    * Source: Galan, J. M. & Izquierdo, L. R. (2005). Appearances Can Be Deceiving: Lessons Learned Re-Implementing Axelrod's 'Evolutionary Approach to Norms'. Journal of Artificial Societies and Social Simulation 8(3)2. http://jasss.soc.surrey.ac.uk/8/3/2.html\n",
    "* **Crossover**: \n",
    "    * Talbi E-G (2009) Metaheuristics: From Design to Implementation. Wiley, Hobo-ken, NJ"
   ]
  },
  {
   "cell_type": "code",
   "execution_count": 48,
   "metadata": {},
   "outputs": [],
   "source": [
    "# Selection (random tournament)\n",
    "def random_tournament(population, tournament_size):\n",
    "    selected_for_next_round = []\n",
    "    for _ in range(len(population)):\n",
    "        tournament = random.sample(population, tournament_size)\n",
    "        winner = max(tournament, key=fitness)\n",
    "        selected_for_next_round.append(winner.copy()) # Be careful, a copy of a list to get a new solution\n",
    "    return selected_for_next_round"
   ]
  },
  {
   "cell_type": "code",
   "execution_count": 11,
   "metadata": {},
   "outputs": [],
   "source": [
    "# Crossover (ox crossover) returns two offspring solutions from two parents\n",
    "# Ox ccopy\n",
    "def ox_copy(parent1,parent2,start,end):\n",
    "    size = min(len(parent1), len(parent2))\n",
    "    child=parent1.copy() \n",
    "    tmp=parent2.copy()\n",
    "    tmp.reverse()\n",
    "    for place in child[start:end]:\n",
    "        tmp.remove(place)\n",
    "    for j in range(end,size):\n",
    "        child[j] = tmp.pop()\n",
    "    for j in range(0,start):\n",
    "        child[j] = tmp.pop()\n",
    "    return child\n",
    "\n",
    "def ox_crossover(parent1, parent2):\n",
    "    size = min(len(parent1), len(parent2))\n",
    "    start, end = sorted(random.sample(range(size), 2))\n",
    "    child1=ox_copy(parent1,parent2,start,end)\n",
    "    child2=ox_copy(parent2,parent1,start,end)\n",
    "    return child1, child2\n"
   ]
  },
  {
   "cell_type": "code",
   "execution_count": 12,
   "metadata": {},
   "outputs": [],
   "source": [
    "# Mutation\n",
    "def mutate(solution, mutation_rate):\n",
    "    size=len(solution)\n",
    "    if random.random() < mutation_rate:\n",
    "        # swap two random positions\n",
    "        i,j = random.sample(range(size), 2)\n",
    "        tmp=solution[i]\n",
    "        solution[i]=solution[j]\n",
    "        solution[j]=tmp  \n",
    "    return solution"
   ]
  },
  {
   "cell_type": "code",
   "execution_count": 71,
   "metadata": {},
   "outputs": [],
   "source": [
    "\"\"\" # Genetic algortihm\n",
    "def genetic_algorithm(targets, population_size, generations, tournament_size, mutation_rate, elitism,crossover):\n",
    "    population = initial_population(targets,population_size)\n",
    "    best_solution=max(population, key=fitness)\n",
    "    fitness_evolution=[]\n",
    "    fitness_evolution.append(fitness(max(population, key=fitness)))\n",
    "    \n",
    "    # Keep simulating generations\n",
    "    df_simulation = pd.DataFrame({'c%i'%i:[add_extremes(population[i])] for i in range(population_size)})\n",
    "\n",
    "    e = max(1, int(elitism*population_size))\n",
    "    e = e if (e % 2 == 0) else e+1 # size of elitism: even number\n",
    "    nc = int(crossover*population_size) \n",
    "    nc = nc if (nc % 2 == 0) else nc+1 # size of crossover: even number\n",
    "\n",
    "    for t in range(generations):\n",
    "        population = sorted(population,key=fitness)\n",
    "        population.reverse()\n",
    "\n",
    "        # (1) elite (no mutation)\n",
    "        #elite=population[:e]\n",
    "        next_generation = population[:e]\n",
    "\n",
    "        # Selection\n",
    "        selection = random_tournament(population, tournament_size)\n",
    "        parents=random.sample(selection, len(selection))\n",
    "        \n",
    "        # (2) direct descendants with mutation\n",
    "        for i in range(population_size-nc-e):\n",
    "            parent = parents.pop()\n",
    "            next_generation.append(mutate(parent,mutation_rate))\n",
    "\n",
    "        # (3) descendants with croosover and mutation\n",
    "        for i in range(int(nc/2)):\n",
    "            parent1 = parents.pop()\n",
    "            parent2 = parents.pop()\n",
    "            child1, child2 = ox_crossover(parent1, parent2)\n",
    "            next_generation.append(mutate(child1,mutation_rate))\n",
    "            next_generation.append(mutate(child2,mutation_rate))\n",
    " \n",
    "        population = next_generation\n",
    "        \n",
    "        if best_solution not in population:\n",
    "            print('Best solution lost!', t)\n",
    "       \n",
    "        #print(t,fitness(best_solution))\n",
    "        #print(t,fitness(max(population, key=fitness)))\n",
    "              \n",
    "        fitness_evolution.append(fitness(max(population, key=fitness)))\n",
    "        #if fitness(max(population, key=fitness)) > fitness(best_solution):\n",
    "        #    best_solution=max(population, key=fitness) \n",
    "        best_solution=max(population, key=fitness) \n",
    "        \n",
    "        population = sorted(population,key=fitness)\n",
    "        population.reverse()\n",
    "        df_simulation=pd.concat([df_simulation,\n",
    "                                 pd.DataFrame({'c%i'%i:[add_extremes(population[i])] for i in range(population_size)})],ignore_index=True)\n",
    "\n",
    "    return add_extremes(best_solution), fitness_evolution, df_simulation \"\"\""
   ]
  },
  {
   "cell_type": "code",
   "execution_count": 66,
   "metadata": {},
   "outputs": [],
   "source": [
    "# Genetic algortihm\n",
    "def genetic_algorithm(targets, population_size, generations, tournament_size, mutation_rate, elitism,crossover):\n",
    "    \n",
    "    # Initialize the population\n",
    "    population = initial_population(targets,population_size)\n",
    "    best_solution=max(population, key=fitness)\n",
    "    fitness_evolution=[fitness(best_solution)]\n",
    "    \n",
    "    # Track simulating generations\n",
    "    df_simulation = pd.DataFrame({'c%i'%i:[add_extremes(population[i])] for i in range(population_size)})\n",
    "\n",
    "    e = max(1, int(elitism*population_size))\n",
    "    e = e if (e % 2 == 0) else e + 1 # size of elitism: even number\n",
    "    nc = int(crossover*population_size) \n",
    "    nc = nc if (nc % 2 == 0) else nc + 1 # size of crossover: even number\n",
    "\n",
    "    for t in range(generations):\n",
    "        \n",
    "        # Sort population by fitness in descending order\n",
    "        population = sorted(population, key=fitness, reverse=True)\n",
    "\n",
    "        # Create next generation list\n",
    "        \n",
    "        # (1) elite (no mutation)\n",
    "        next_generation = copy.deepcopy(population[:e]) # Keep elite individuals (best solutions)\n",
    "\n",
    "        # Selection\n",
    "        selection = random_tournament(population, tournament_size)\n",
    "        parents=random.sample(selection, len(selection)) # shuffle the selected parents\n",
    "        \n",
    "        # (2) direct descendants with mutation\n",
    "        for i in range(population_size - nc - e):\n",
    "            parent = parents.pop()\n",
    "            next_generation.append(mutate(parent,mutation_rate))\n",
    "\n",
    "        # (3) descendants with croosover and mutation\n",
    "        for i in range(int(nc/2)):\n",
    "            parent1 = parents.pop()\n",
    "            parent2 = parents.pop()\n",
    "            child1, child2 = ox_crossover(parent1, parent2)\n",
    "            next_generation.append(mutate(child1,mutation_rate))\n",
    "            next_generation.append(mutate(child2,mutation_rate))\n",
    " \n",
    "        # Update population\n",
    "        population = copy.deepcopy(sorted(next_generation, key=fitness, reverse=True))\n",
    "        fitness_evolution.append(fitness(max(population, key=fitness)))\n",
    "\n",
    "        # Track simulation data        \n",
    "        df_simulation=pd.concat([df_simulation,\n",
    "                                 pd.DataFrame({'c%i'%i:[add_extremes(population[i])] for i in range(population_size)})],ignore_index=True)\n",
    "\n",
    "    best_solution=max(population, key=fitness)\n",
    "\n",
    "    return add_extremes(best_solution), fitness_evolution, df_simulation"
   ]
  },
  {
   "cell_type": "code",
   "execution_count": null,
   "metadata": {},
   "outputs": [],
   "source": [
    "\"\"\" \n",
    "        last_population = population.copy()\n",
    "        if t in range(65,70):\n",
    "            print(t)\n",
    "            \n",
    "            bs0=max(last_population, key=fitness)\n",
    "            bs1=max(next_generation, key=fitness)\n",
    "            print(fitness(bs0),bs0)\n",
    "            print(fitness(bs1),bs1)\n",
    "            for i in range(e):\n",
    "                print(fitness(population[i]),population[i]) \"\"\"    \n"
   ]
  },
  {
   "cell_type": "code",
   "execution_count": 73,
   "metadata": {},
   "outputs": [],
   "source": [
    "elitism = 0.01"
   ]
  },
  {
   "cell_type": "code",
   "execution_count": 74,
   "metadata": {},
   "outputs": [],
   "source": [
    "set_seed(seed)\n",
    "targets=places(grid_size,n_places-1)\n",
    "best_solution,fitness_evolution, dfsim = genetic_algorithm(targets, population_size, \n",
    "                                                           generations, tournament_size, mutation_rate, elitism,crossover)\n"
   ]
  },
  {
   "cell_type": "code",
   "execution_count": 75,
   "metadata": {},
   "outputs": [
    {
     "name": "stdout",
     "output_type": "stream",
     "text": [
      "0.031745339808209726\n"
     ]
    },
    {
     "data": {
      "text/plain": [
       "[<matplotlib.lines.Line2D at 0x22a58909010>]"
      ]
     },
     "execution_count": 75,
     "metadata": {},
     "output_type": "execute_result"
    },
    {
     "data": {
      "image/png": "[encoded data removed]",
      "text/plain": [
       "<Figure size 640x480 with 1 Axes>"
      ]
     },
     "metadata": {},
     "output_type": "display_data"
    }
   ],
   "source": [
    "print(fitness(best_solution))\n",
    "plt.plot(fitness_evolution)"
   ]
  },
  {
   "cell_type": "code",
   "execution_count": 45,
   "metadata": {},
   "outputs": [
    {
     "data": {
      "image/png": "[encoded data removed]",
      "text/plain": [
       "<Figure size 640x480 with 1 Axes>"
      ]
     },
     "metadata": {},
     "output_type": "display_data"
    }
   ],
   "source": [
    "x, y = zip(*best_solution)\n",
    "plt.scatter(x, y, color='red')\n",
    "plt.plot(x, y, color='blue')\n",
    "plt.grid(True)\n",
    "plt.show()"
   ]
  },
  {
   "cell_type": "code",
   "execution_count": 73,
   "metadata": {},
   "outputs": [],
   "source": [
    "from bokeh.plotting import figure, show\n",
    "from bokeh.models import Range1d"
   ]
  },
  {
   "cell_type": "code",
   "execution_count": 74,
   "metadata": {},
   "outputs": [],
   "source": [
    "# Draw the fitness evolution\n",
    "x=np.arange(len(fitness_evolution))\n",
    "y=fitness_evolution\n",
    "p = figure(width=500, height=500, title=\"Fitness\", tools=\"\", x_axis_label='Generation',\n",
    "           toolbar_location=None, match_aspect=True)\n",
    "p.line(x, y, color=\"navy\", alpha=0.4, line_width=4)\n",
    "p.y_range = Range1d(min(fitness_evolution)-0.0005, max(fitness_evolution)+0.0005)\n",
    "p.background_fill_color = \"#efefef\"\n",
    "show(p)"
   ]
  },
  {
   "cell_type": "code",
   "execution_count": 114,
   "metadata": {},
   "outputs": [],
   "source": [
    "# Draw best solution\n",
    "solution=best_solution\n",
    "x, y = zip(*solution)\n",
    "p = figure(width=500, height=500, title=\"Best solution\", tools=\"\", \n",
    "           toolbar_location=None, match_aspect=True)\n",
    "p.line(x, y, color=\"navy\", alpha=0.4, line_width=4)\n",
    "#p.y_range = Range1d(0,)\n",
    "p.background_fill_color = \"#efefef\"\n",
    "show(p)"
   ]
  },
  {
   "cell_type": "code",
   "execution_count": 116,
   "metadata": {},
   "outputs": [],
   "source": [
    "# Draw solution population\n",
    "S=int(np.sqrt(population_size)) + 1 \n",
    "padding=0.1\n",
    "L=grid_size+2*padding\n",
    "\n",
    "gen=49\n",
    "P=dfsim.loc[gen].values.tolist()\n",
    "\n",
    "#P=[best_solution for i in range(population_size)]\n",
    "\n",
    "p = figure(width=600, height=600, title=\"Generation %i\" %gen, tools=\"\",\n",
    "           toolbar_location=None, match_aspect=True)\n",
    "\n",
    "for i in range(S):\n",
    "    H=i*L + padding \n",
    "    for j in range(S):\n",
    "        W=j*L + padding\n",
    "        if P:\n",
    "            solution=P.pop()\n",
    "            x, y = zip(*solution)\n",
    "            p.line(np.array(x)+W, np.array(y)+H, color=\"navy\", alpha=0.4, line_width=4)\n",
    "\n",
    "p.x_range = Range1d(0, L*S)\n",
    "p.y_range = Range1d(0, L*(S-1))\n",
    "p.axis.visible = False \n",
    "p.background_fill_color = \"#efefef\"\n",
    "show(p)"
   ]
  },
  {
   "cell_type": "code",
   "execution_count": 65,
   "metadata": {},
   "outputs": [],
   "source": [
    "# Working with list of lists\n",
    "import copy\n",
    "\n",
    "A=initial_population(places(10,3),4)\n",
    "print(A,'\\n')\n",
    "\n",
    "b=A[0].copy()\n",
    "print(b)\n",
    "b[0]=(100,100)\n",
    "print(b)\n",
    "print(A)\n",
    "print('ok\\n')\n",
    "\n",
    "b=random.sample(A, 1)[0].copy()\n",
    "print(b)\n",
    "b[0]=(100,100)\n",
    "print(b)\n",
    "print(A)\n",
    "print('ok\\n')\n",
    "\n",
    "b=[(0,0)] + A[0]\n",
    "print(b)\n",
    "b[1]=(100,100)\n",
    "print(b)\n",
    "print(A)\n",
    "print('ok\\n')\n",
    "\n",
    "B=copy.deepcopy(sorted(B, key=fitness, reverse=True))\n",
    "print(B)\n",
    "B[0][0]=(100,100)\n",
    "print(B)\n",
    "print(A)\n",
    "print('ok\\n')\n",
    "\n",
    "b=copy.deepcopy(max(A, key=fitness))\n",
    "print(b)\n",
    "b[0]=(100,100)\n",
    "print(b)\n",
    "print(A)\n",
    "print('ok\\n')\n",
    "\n",
    "B=copy.deepcopy(A[:2])\n",
    "print(B)\n",
    "B[0][0]=(100,100)\n",
    "print(B)\n",
    "print(A)\n",
    "print('ok\\n')\n",
    "\n",
    "\n"
   ]
  },
  {
   "cell_type": "code",
   "execution_count": null,
   "metadata": {},
   "outputs": [],
   "source": []
  }
 ],
 "metadata": {
  "kernelspec": {
   "display_name": "nchllama",
   "language": "python",
   "name": "python3"
  },
  "language_info": {
   "codemirror_mode": {
    "name": "ipython",
    "version": 3
   },
   "file_extension": ".py",
   "mimetype": "text/x-python",
   "name": "python",
   "nbconvert_exporter": "python",
   "pygments_lexer": "ipython3",
   "version": "3.11.5"
  }
 },
 "nbformat": 4,
 "nbformat_minor": 2
}
