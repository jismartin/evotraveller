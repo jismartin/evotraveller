{
 "cells": [
  {
   "cell_type": "code",
   "execution_count": 256,
   "metadata": {},
   "outputs": [],
   "source": [
    "import numpy as np\n",
    "import random\n",
    "import pandas as pd\n",
    "import matplotlib.pyplot as plt"
   ]
  },
  {
   "cell_type": "code",
   "execution_count": 234,
   "metadata": {},
   "outputs": [],
   "source": [
    "# Parameters of the problem and the genetic algorithm\n",
    "# TSP parameters\n",
    "grid_size = 10\n",
    "n_places = 10\n",
    "# Genetic algorithm parameters\n",
    "population_size = 50 # Even number\n",
    "mutation_rate = 0.05\n",
    "generations = 100\n",
    "tournament_size = 2\n",
    "elitism = 0.1"
   ]
  },
  {
   "cell_type": "code",
   "execution_count": 128,
   "metadata": {},
   "outputs": [],
   "source": [
    "# Places to visit\n",
    "def places(grid_size,n_places):\n",
    "    return list(zip(np.random.randint(0,grid_size,n_places),np.random.randint(0,grid_size,n_places)))"
   ]
  },
  {
   "cell_type": "code",
   "execution_count": 129,
   "metadata": {},
   "outputs": [],
   "source": [
    "# Fitness function\n",
    "def distance(path):\n",
    "    return sum(np.sqrt((path[i][0] - path[i+1][0])**2 + (path[i][1] - path[i+1][1])**2) \n",
    "               for i in range(len(path)-1))\n",
    "def fitness(solution):\n",
    "    return 1 / distance(solution) # shorter distence higher fitness"
   ]
  },
  {
   "cell_type": "code",
   "execution_count": 130,
   "metadata": {},
   "outputs": [],
   "source": [
    "# Intial Population\n",
    "def initial_population(places,population_size):\n",
    "    return [random.sample(places, len(places)) for _ in range(population_size)]"
   ]
  },
  {
   "cell_type": "markdown",
   "metadata": {},
   "source": [
    "References for:\n",
    "* **Selection** \n",
    "    * Source: Galan, J. M. & Izquierdo, L. R. (2005). Appearances Can Be Deceiving: Lessons Learned Re-Implementing Axelrod's 'Evolutionary Approach to Norms'. Journal of Artificial Societies and Social Simulation 8(3)2. http://jasss.soc.surrey.ac.uk/8/3/2.html\n",
    "* **Crossover**: \n",
    "    * Apuntes Algorítmica. Softcomputing and Soft Computing and Intelligent Information Systems. Universidad de Granada"
   ]
  },
  {
   "cell_type": "code",
   "execution_count": 181,
   "metadata": {},
   "outputs": [],
   "source": [
    "# Selection (random tournament)\n",
    "def random_tournament(population, tournament_size):\n",
    "    selected_for_next_round = []\n",
    "    for _ in range(len(population)):\n",
    "        tournament = random.sample(population, tournament_size)\n",
    "        winner = max(tournament, key=fitness)\n",
    "        selected_for_next_round.append(winner)\n",
    "    return selected_for_next_round\n",
    "\n",
    "\n",
    "# Crossover (ox crossover)\n",
    "# Ox ccopy\n",
    "def ox_copy(parent1,parent2,start,end):\n",
    "    child=parent1.copy() # Lists are always passed by reference in Phyton!\n",
    "    tmp=parent2.copy()\n",
    "    tmp.reverse()\n",
    "    for place in child[start:end]:\n",
    "        tmp.remove(place)\n",
    "    for j in range(end,size):\n",
    "        child[j] = tmp.pop()\n",
    "    for j in range(0,start):\n",
    "        child[j] = tmp.pop()\n",
    "    return child\n",
    "\n",
    "def ox_crossover(parent1, parent2):\n",
    "    size = min(len(parent1), len(parent2))\n",
    "    start, end = sorted(random.sample(range(size), 2))\n",
    "    child1=ox_copy(parent1,parent2,start,end)\n",
    "    child2=ox_copy(parent2,parent1,start,end)\n",
    "    return child1, child2\n",
    "\n",
    "# Mutation\n",
    "def mutate(solution, mutation_rate):\n",
    "    size=len(solution)\n",
    "    if random.random() < mutation_rate:\n",
    "        # swap two random positions\n",
    "        i,j = random.sample(range(size), 2)\n",
    "        tmp=solution[i]\n",
    "        solution[i]=solution[j]\n",
    "        solution[j]=tmp  \n",
    "    return solution"
   ]
  },
  {
   "cell_type": "code",
   "execution_count": 300,
   "metadata": {},
   "outputs": [
    {
     "data": {
      "text/html": [
       "<div>\n",
       "<style scoped>\n",
       "    .dataframe tbody tr th:only-of-type {\n",
       "        vertical-align: middle;\n",
       "    }\n",
       "\n",
       "    .dataframe tbody tr th {\n",
       "        vertical-align: top;\n",
       "    }\n",
       "\n",
       "    .dataframe thead th {\n",
       "        text-align: right;\n",
       "    }\n",
       "</style>\n",
       "<table border=\"1\" class=\"dataframe\">\n",
       "  <thead>\n",
       "    <tr style=\"text-align: right;\">\n",
       "      <th></th>\n",
       "      <th>x</th>\n",
       "      <th>y</th>\n",
       "      <th>n</th>\n",
       "    </tr>\n",
       "  </thead>\n",
       "  <tbody>\n",
       "    <tr>\n",
       "      <th>0</th>\n",
       "      <td>1</td>\n",
       "      <td>2</td>\n",
       "      <td>3</td>\n",
       "    </tr>\n",
       "  </tbody>\n",
       "</table>\n",
       "</div>"
      ],
      "text/plain": [
       "   x  y  n\n",
       "0  1  2  3"
      ]
     },
     "execution_count": 300,
     "metadata": {},
     "output_type": "execute_result"
    }
   ],
   "source": [
    "pd.DataFrame([[1,2,3]],columns=['x','y','n'])"
   ]
  },
  {
   "cell_type": "code",
   "execution_count": 306,
   "metadata": {},
   "outputs": [],
   "source": [
    "def population_to_df(population):\n",
    "    df = pd.DataFrame([],columns=['x','y','n','s'])\n",
    "    for i in range(len(population)):\n",
    "        for j in range(len(population[i])):\n",
    "            df = pd.concat([df, pd.DataFrame([[population[i][j][0],population[i][j][1],j,i]],\n",
    "                                    columns=['x','y','n','s'])],ignore_index=True)\n",
    "    return df"
   ]
  },
  {
   "cell_type": "code",
   "execution_count": 307,
   "metadata": {},
   "outputs": [
    {
     "data": {
      "text/html": [
       "<div>\n",
       "<style scoped>\n",
       "    .dataframe tbody tr th:only-of-type {\n",
       "        vertical-align: middle;\n",
       "    }\n",
       "\n",
       "    .dataframe tbody tr th {\n",
       "        vertical-align: top;\n",
       "    }\n",
       "\n",
       "    .dataframe thead th {\n",
       "        text-align: right;\n",
       "    }\n",
       "</style>\n",
       "<table border=\"1\" class=\"dataframe\">\n",
       "  <thead>\n",
       "    <tr style=\"text-align: right;\">\n",
       "      <th></th>\n",
       "      <th>x</th>\n",
       "      <th>y</th>\n",
       "      <th>n</th>\n",
       "      <th>s</th>\n",
       "      <th>gen</th>\n",
       "    </tr>\n",
       "  </thead>\n",
       "  <tbody>\n",
       "    <tr>\n",
       "      <th>0</th>\n",
       "      <td>6</td>\n",
       "      <td>4</td>\n",
       "      <td>0</td>\n",
       "      <td>0</td>\n",
       "      <td>1</td>\n",
       "    </tr>\n",
       "    <tr>\n",
       "      <th>1</th>\n",
       "      <td>0</td>\n",
       "      <td>7</td>\n",
       "      <td>1</td>\n",
       "      <td>0</td>\n",
       "      <td>1</td>\n",
       "    </tr>\n",
       "    <tr>\n",
       "      <th>2</th>\n",
       "      <td>2</td>\n",
       "      <td>0</td>\n",
       "      <td>2</td>\n",
       "      <td>0</td>\n",
       "      <td>1</td>\n",
       "    </tr>\n",
       "    <tr>\n",
       "      <th>3</th>\n",
       "      <td>3</td>\n",
       "      <td>5</td>\n",
       "      <td>3</td>\n",
       "      <td>0</td>\n",
       "      <td>1</td>\n",
       "    </tr>\n",
       "    <tr>\n",
       "      <th>4</th>\n",
       "      <td>1</td>\n",
       "      <td>6</td>\n",
       "      <td>4</td>\n",
       "      <td>0</td>\n",
       "      <td>1</td>\n",
       "    </tr>\n",
       "    <tr>\n",
       "      <th>...</th>\n",
       "      <td>...</td>\n",
       "      <td>...</td>\n",
       "      <td>...</td>\n",
       "      <td>...</td>\n",
       "      <td>...</td>\n",
       "    </tr>\n",
       "    <tr>\n",
       "      <th>495</th>\n",
       "      <td>0</td>\n",
       "      <td>0</td>\n",
       "      <td>5</td>\n",
       "      <td>49</td>\n",
       "      <td>1</td>\n",
       "    </tr>\n",
       "    <tr>\n",
       "      <th>496</th>\n",
       "      <td>8</td>\n",
       "      <td>3</td>\n",
       "      <td>6</td>\n",
       "      <td>49</td>\n",
       "      <td>1</td>\n",
       "    </tr>\n",
       "    <tr>\n",
       "      <th>497</th>\n",
       "      <td>8</td>\n",
       "      <td>7</td>\n",
       "      <td>7</td>\n",
       "      <td>49</td>\n",
       "      <td>1</td>\n",
       "    </tr>\n",
       "    <tr>\n",
       "      <th>498</th>\n",
       "      <td>6</td>\n",
       "      <td>4</td>\n",
       "      <td>8</td>\n",
       "      <td>49</td>\n",
       "      <td>1</td>\n",
       "    </tr>\n",
       "    <tr>\n",
       "      <th>499</th>\n",
       "      <td>2</td>\n",
       "      <td>0</td>\n",
       "      <td>9</td>\n",
       "      <td>49</td>\n",
       "      <td>1</td>\n",
       "    </tr>\n",
       "  </tbody>\n",
       "</table>\n",
       "<p>500 rows × 5 columns</p>\n",
       "</div>"
      ],
      "text/plain": [
       "     x  y  n   s  gen\n",
       "0    6  4  0   0    1\n",
       "1    0  7  1   0    1\n",
       "2    2  0  2   0    1\n",
       "3    3  5  3   0    1\n",
       "4    1  6  4   0    1\n",
       "..  .. .. ..  ..  ...\n",
       "495  0  0  5  49    1\n",
       "496  8  3  6  49    1\n",
       "497  8  7  7  49    1\n",
       "498  6  4  8  49    1\n",
       "499  2  0  9  49    1\n",
       "\n",
       "[500 rows x 5 columns]"
      ]
     },
     "execution_count": 307,
     "metadata": {},
     "output_type": "execute_result"
    }
   ],
   "source": [
    "dfsim=population_to_df(population)\n",
    "dfsim['gen']=1\n",
    "df"
   ]
  },
  {
   "cell_type": "code",
   "execution_count": 321,
   "metadata": {},
   "outputs": [],
   "source": [
    "# Genetic algortihm\n",
    "def genetic_algorithm(targets, generations, tournament_size, mutation_rate):\n",
    "    population = initial_population(targets,population_size)\n",
    "    best_solution=max(population, key=fitness)\n",
    "    fitness_evolution=[]\n",
    "    fitness_evolution.append(fitness(max(population, key=fitness)))\n",
    "    \n",
    "    # Keep simulating generations\n",
    "    df_simulation = pd.DataFrame({'c%i'%i:[population[i]] for i in range(population_size)})\n",
    "    #dfsim=population_to_df(population)\n",
    "    #dfsim['gen']=0\n",
    "\n",
    "    \n",
    "    for t in range(generations):\n",
    "        # Elite (not change)\n",
    "        population = sorted(population,key=fitness)\n",
    "        population.reverse()\n",
    "        e = int(elitism*len(population))\n",
    "        e = e if (e % 2 == 0) else e+1 # even elite number\n",
    "        elite=population[:e]\n",
    "\n",
    "        # Selection\n",
    "        selection = random_tournament(population, tournament_size)\n",
    "        parents=random.sample(selection, len(selection))\n",
    "        next_generation = []\n",
    "\n",
    "        for i in range(0, int(len(parents)/2)):\n",
    "            parent1 = parents.pop()\n",
    "            parent2 = parents.pop()\n",
    "            child1, child2 = ox_crossover(parent1, parent2)\n",
    "            next_generation.append(mutate(child1,0))\n",
    "            next_generation.append(mutate(child2,0))\n",
    "        population = next_generation\n",
    "        population[:e]=elite\n",
    "        fitness_evolution.append(fitness(max(population, key=fitness)))\n",
    "        if fitness(max(population, key=fitness)) > fitness(best_solution):\n",
    "            best_solution=max(population, key=fitness) \n",
    "    \n",
    "    #    next_sim=population_to_df(population)\n",
    "    #    next_sim['gen']=t+1\n",
    "    #    dfsim=pd.concat([dfsim,next_sim],ignore_index=True)\n",
    "\n",
    "        df_simulation=pd.concat([df_simulation,\n",
    "                                 pd.DataFrame({'c%i'%i:[population[i]] for i in range(population_size)})],ignore_index=True)\n",
    "\n",
    "    return best_solution, fitness_evolution, df_simulation"
   ]
  },
  {
   "cell_type": "code",
   "execution_count": 322,
   "metadata": {},
   "outputs": [],
   "source": [
    "targets=places(grid_size,n_places)\n",
    "best_solution,fitness_evolution, dfsim = genetic_algorithm(targets, 100, 4, 0.01)"
   ]
  },
  {
   "cell_type": "code",
   "execution_count": 323,
   "metadata": {},
   "outputs": [
    {
     "name": "stdout",
     "output_type": "stream",
     "text": [
      "0.04954596215620829\n"
     ]
    },
    {
     "data": {
      "text/plain": [
       "[<matplotlib.lines.Line2D at 0x1ae2fa02110>]"
      ]
     },
     "execution_count": 323,
     "metadata": {},
     "output_type": "execute_result"
    },
    {
     "data": {
      "image/png": "[encoded data removed]",
      "text/plain": [
       "<Figure size 640x480 with 1 Axes>"
      ]
     },
     "metadata": {},
     "output_type": "display_data"
    }
   ],
   "source": [
    "print(fitness(best_solution))\n",
    "plt.plot(fitness_evolution)"
   ]
  },
  {
   "cell_type": "code",
   "execution_count": 374,
   "metadata": {},
   "outputs": [
    {
     "data": {
      "image/png": "[encoded data removed]",
      "text/plain": [
       "<Figure size 640x480 with 1 Axes>"
      ]
     },
     "metadata": {},
     "output_type": "display_data"
    }
   ],
   "source": [
    "x, y = zip(*best_solution)\n",
    "plt.scatter(x, y, color='red')\n",
    "plt.plot(x, y, color='blue')\n",
    "plt.grid(True)\n",
    "plt.show()"
   ]
  },
  {
   "cell_type": "code",
   "execution_count": null,
   "metadata": {},
   "outputs": [],
   "source": [
    "from bokeh.plotting import figure, show\n",
    "from bokeh.models import Range1d"
   ]
  },
  {
   "cell_type": "code",
   "execution_count": 414,
   "metadata": {},
   "outputs": [],
   "source": [
    "# Draw the fitness evolution\n",
    "x=np.arange(len(fitness_evolution))\n",
    "y=fitness_evolution\n",
    "p = figure(width=500, height=500, title=\"Fitness\", tools=\"\", x_axis_label='Generation',\n",
    "           toolbar_location=None, match_aspect=True)\n",
    "p.line(x, y, color=\"navy\", alpha=0.4, line_width=4)\n",
    "p.y_range = Range1d(min(fitness_evolution)-0.0005, max(fitness_evolution)+0.0005)\n",
    "p.background_fill_color = \"#efefef\"\n",
    "show(p)"
   ]
  },
  {
   "cell_type": "code",
   "execution_count": 389,
   "metadata": {},
   "outputs": [],
   "source": [
    "# Draw the population of solutions\n",
    "S=int(np.sqrt(population_size)) + 1 \n",
    "padding=0.1\n",
    "L=grid_size+2*padding\n",
    "\n",
    "gen=49\n",
    "P=dfsim.loc[gen].values.tolist()\n",
    "\n",
    "p = figure(width=600, height=600, title=\"Generation %i\" %gen, tools=\"\",\n",
    "           toolbar_location=None, match_aspect=True)\n",
    "\n",
    "for i in range(S):\n",
    "    H=i*L + padding \n",
    "    for j in range(S):\n",
    "        W=j*L + padding\n",
    "        if P:\n",
    "            solution=P.pop()\n",
    "            x, y = zip(*solution)\n",
    "            p.line(np.array(x)+W, np.array(y)+H, color=\"navy\", alpha=0.4, line_width=4)\n",
    "\n",
    "p.x_range = Range1d(0, L*S)\n",
    "p.y_range = Range1d(0, L*(S-1))\n",
    "p.axis.visible = False \n",
    "p.background_fill_color = \"#efefef\"\n",
    "show(p)"
   ]
  },
  {
   "cell_type": "code",
   "execution_count": null,
   "metadata": {},
   "outputs": [],
   "source": []
  }
 ],
 "metadata": {
  "kernelspec": {
   "display_name": "nchllama",
   "language": "python",
   "name": "python3"
  },
  "language_info": {
   "codemirror_mode": {
    "name": "ipython",
    "version": 3
   },
   "file_extension": ".py",
   "mimetype": "text/x-python",
   "name": "python",
   "nbconvert_exporter": "python",
   "pygments_lexer": "ipython3",
   "version": "3.11.5"
  }
 },
 "nbformat": 4,
 "nbformat_minor": 2
}
